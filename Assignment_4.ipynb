{
  "nbformat": 4,
  "nbformat_minor": 0,
  "metadata": {
    "colab": {
      "provenance": [],
      "gpuType": "T4"
    },
    "kernelspec": {
      "name": "python3",
      "display_name": "Python 3"
    },
    "language_info": {
      "name": "python"
    },
    "accelerator": "GPU"
  },
  "cells": [
    {
      "cell_type": "markdown",
      "source": [
        "Import necessary modules"
      ],
      "metadata": {
        "id": "Dnj1MTIsXpLb"
      }
    },
    {
      "cell_type": "code",
      "execution_count": null,
      "metadata": {
        "id": "aSrV-vjzXWt2"
      },
      "outputs": [],
      "source": [
        "import tensorflow as tf\n",
        "from tensorflow.keras.datasets import mnist\n",
        "from tensorflow.keras.utils import to_categorical"
      ]
    },
    {
      "cell_type": "markdown",
      "source": [
        "Prepare dataset"
      ],
      "metadata": {
        "id": "0jg5kH21XsSE"
      }
    },
    {
      "cell_type": "code",
      "source": [
        "\n",
        "\n",
        "(x_train, y_train), (x_test, y_test) = mnist.load_data()\n",
        "x_train, x_test = x_train/255.0, x_test/255.0\n",
        "x_train = x_train.reshape(-1, 784)\n",
        "x_test = x_test.reshape(-1, 784)\n",
        "y_train = to_categorical(y_train, 10)\n",
        "y_test = to_categorical(y_test, 10)\n",
        "\n",
        "\n",
        "\n",
        "x_train.shape, y_train.shape, x_test.shape, y_test.shape\n",
        "\n"
      ],
      "metadata": {
        "colab": {
          "base_uri": "https://localhost:8080/"
        },
        "id": "_l5QLrjxXhCx",
        "outputId": "048f2d2a-13ee-4c12-e580-54427152bd74"
      },
      "execution_count": null,
      "outputs": [
        {
          "output_type": "stream",
          "name": "stdout",
          "text": [
            "Downloading data from https://storage.googleapis.com/tensorflow/tf-keras-datasets/mnist.npz\n",
            "\u001b[1m11490434/11490434\u001b[0m \u001b[32m━━━━━━━━━━━━━━━━━━━━\u001b[0m\u001b[37m\u001b[0m \u001b[1m0s\u001b[0m 0us/step\n"
          ]
        },
        {
          "output_type": "execute_result",
          "data": {
            "text/plain": [
              "((60000, 784), (60000, 10), (10000, 784), (10000, 10))"
            ]
          },
          "metadata": {},
          "execution_count": 2
        }
      ]
    },
    {
      "cell_type": "markdown",
      "source": [
        "Build the model"
      ],
      "metadata": {
        "id": "uSmOkat3XyTl"
      }
    },
    {
      "cell_type": "code",
      "source": [
        "\n",
        "\n",
        "class MLP(tf.keras.Model):\n",
        "    def __init__(self):\n",
        "        super().__init__()\n",
        "        self.d1 = tf.keras.layers.Dense(8, activation='relu')\n",
        "        self.d2 = tf.keras.layers.Dense(4, activation='relu')\n",
        "        self.d3 = tf.keras.layers.Dense(4, activation='relu')\n",
        "        self.out = tf.keras.layers.Dense(10, activation='softmax')\n",
        "\n",
        "    def call(self, x):\n",
        "        x = self.d1(x)\n",
        "        x = self.d2(x)\n",
        "        x = self.d3(x)\n",
        "        return self.out(x)\n",
        "\n",
        "gradient_tape_model = MLP()\n",
        "\n"
      ],
      "metadata": {
        "id": "cOir7avIXv_b"
      },
      "execution_count": null,
      "outputs": []
    },
    {
      "cell_type": "markdown",
      "source": [
        "Loss function and optimizer"
      ],
      "metadata": {
        "id": "7IJhExKaX0x4"
      }
    },
    {
      "cell_type": "code",
      "source": [
        "\n",
        "\n",
        "loss_fn = tf.keras.losses.CategoricalCrossentropy(from_logits=False)\n",
        "optimizer = tf.keras.optimizers.Adam(learning_rate=0.01)\n",
        "\n"
      ],
      "metadata": {
        "id": "8tT1N_opX28E"
      },
      "execution_count": null,
      "outputs": []
    },
    {
      "cell_type": "markdown",
      "source": [
        "Training loop (using gradient tape)"
      ],
      "metadata": {
        "id": "9_Scd3R-X5T6"
      }
    },
    {
      "cell_type": "code",
      "source": [
        "\n",
        "\n",
        "EPOCHS = 5\n",
        "BATCH_SIZE = 128\n",
        "\n",
        "train_test_split = int(0.8 * len(x_train))\n",
        "trainX = x_train[0:train_test_split]\n",
        "trainY = y_train[0:train_test_split]\n",
        "valX = x_train[train_test_split:]\n",
        "valY = y_train[train_test_split:]\n",
        "# Create training dataset\n",
        "train_ds = tf.data.Dataset.from_tensor_slices((trainX, trainY))\n",
        "train_ds = train_ds.shuffle(buffer_size=10000).batch(BATCH_SIZE)\n",
        "\n",
        "# Create validation dataset\n",
        "val_ds = tf.data.Dataset.from_tensor_slices((valX, valY))\n",
        "val_ds = val_ds.batch(BATCH_SIZE)\n",
        "\n",
        "for epoch in range(EPOCHS):\n",
        "    # Training loop\n",
        "    for x_batch, y_batch in train_ds:\n",
        "        with tf.GradientTape() as tape:\n",
        "            probs = gradient_tape_model(x_batch)\n",
        "            loss = loss_fn(y_batch, probs)\n",
        "        grads = tape.gradient(loss, gradient_tape_model.trainable_variables)\n",
        "        optimizer.apply_gradients(zip(grads, gradient_tape_model.trainable_variables))\n",
        "\n",
        "    # Validation loop\n",
        "    val_losses = []\n",
        "    val_accuracy = tf.keras.metrics.CategoricalAccuracy()\n",
        "\n",
        "    for x_val_batch, y_val_batch in val_ds:\n",
        "        val_probs = gradient_tape_model(x_val_batch)\n",
        "        val_loss = loss_fn(y_val_batch, val_probs)\n",
        "        val_losses.append(val_loss.numpy())\n",
        "        val_accuracy.update_state(y_val_batch, val_probs)\n",
        "\n",
        "    val_loss_avg = sum(val_losses) / len(val_losses)\n",
        "\n",
        "    print(f\"Epoch {epoch+1}: Training Loss = {loss.numpy():.4f}, \"\n",
        "          f\"Validation Loss = {val_loss_avg:.4f}, \"\n",
        "          f\"Validation Accuracy = {val_accuracy.result().numpy():.4f}\")\n",
        "\n"
      ],
      "metadata": {
        "colab": {
          "base_uri": "https://localhost:8080/"
        },
        "id": "iRcBur1oX7n9",
        "outputId": "6c5d31b2-bc24-4ab2-8687-fe0c085ca9df"
      },
      "execution_count": null,
      "outputs": [
        {
          "output_type": "stream",
          "name": "stdout",
          "text": [
            "Epoch 1: Training Loss = 0.4690, Validation Loss = 0.4693, Validation Accuracy = 0.8658\n",
            "Epoch 2: Training Loss = 0.4390, Validation Loss = 0.3839, Validation Accuracy = 0.8913\n",
            "Epoch 3: Training Loss = 0.5626, Validation Loss = 0.3689, Validation Accuracy = 0.8973\n",
            "Epoch 4: Training Loss = 0.3636, Validation Loss = 0.3459, Validation Accuracy = 0.9070\n",
            "Epoch 5: Training Loss = 0.4104, Validation Loss = 0.3409, Validation Accuracy = 0.9055\n"
          ]
        }
      ]
    },
    {
      "cell_type": "markdown",
      "source": [
        "Training using model.fit()"
      ],
      "metadata": {
        "id": "HVMFIZRQX9vr"
      }
    },
    {
      "cell_type": "code",
      "source": [
        "\n",
        "\n",
        "# Instantiate and compile the model\n",
        "keras_fit_model = MLP()\n",
        "keras_fit_model.compile(\n",
        "    optimizer=tf.keras.optimizers.Adam(learning_rate=0.01),\n",
        "    loss=tf.keras.losses.CategoricalCrossentropy(from_logits=False),\n",
        "    metrics=['accuracy']\n",
        ")\n",
        "\n",
        "# Train using fit\n",
        "keras_fit_model.fit(x_train, y_train, batch_size=128, epochs=5, validation_split=0.2, shuffle=False)\n",
        "\n"
      ],
      "metadata": {
        "colab": {
          "base_uri": "https://localhost:8080/"
        },
        "id": "JrEmEpdrYAIa",
        "outputId": "a4306608-f849-4134-8fe6-66465b2e9332"
      },
      "execution_count": null,
      "outputs": [
        {
          "output_type": "stream",
          "name": "stdout",
          "text": [
            "Epoch 1/5\n",
            "\u001b[1m375/375\u001b[0m \u001b[32m━━━━━━━━━━━━━━━━━━━━\u001b[0m\u001b[37m\u001b[0m \u001b[1m5s\u001b[0m 7ms/step - accuracy: 0.3773 - loss: 1.6706 - val_accuracy: 0.6654 - val_loss: 0.9599\n",
            "Epoch 2/5\n",
            "\u001b[1m375/375\u001b[0m \u001b[32m━━━━━━━━━━━━━━━━━━━━\u001b[0m\u001b[37m\u001b[0m \u001b[1m1s\u001b[0m 4ms/step - accuracy: 0.6988 - loss: 0.9034 - val_accuracy: 0.7423 - val_loss: 0.7029\n",
            "Epoch 3/5\n",
            "\u001b[1m375/375\u001b[0m \u001b[32m━━━━━━━━━━━━━━━━━━━━\u001b[0m\u001b[37m\u001b[0m \u001b[1m1s\u001b[0m 3ms/step - accuracy: 0.7444 - loss: 0.7024 - val_accuracy: 0.7712 - val_loss: 0.6544\n",
            "Epoch 4/5\n",
            "\u001b[1m375/375\u001b[0m \u001b[32m━━━━━━━━━━━━━━━━━━━━\u001b[0m\u001b[37m\u001b[0m \u001b[1m1s\u001b[0m 3ms/step - accuracy: 0.7870 - loss: 0.6387 - val_accuracy: 0.8140 - val_loss: 0.6116\n",
            "Epoch 5/5\n",
            "\u001b[1m375/375\u001b[0m \u001b[32m━━━━━━━━━━━━━━━━━━━━\u001b[0m\u001b[37m\u001b[0m \u001b[1m1s\u001b[0m 3ms/step - accuracy: 0.8205 - loss: 0.5874 - val_accuracy: 0.8491 - val_loss: 0.5968\n"
          ]
        },
        {
          "output_type": "execute_result",
          "data": {
            "text/plain": [
              "<keras.src.callbacks.history.History at 0x7f785661a150>"
            ]
          },
          "metadata": {},
          "execution_count": 6
        }
      ]
    },
    {
      "cell_type": "markdown",
      "source": [
        "Model evaluation function"
      ],
      "metadata": {
        "id": "xGVJE6kgYCLC"
      }
    },
    {
      "cell_type": "code",
      "source": [
        "\n",
        "\n",
        "def evaluate(model, x_test):\n",
        "    y_pred_prob = model(x_test)\n",
        "    y_pred = tf.argmax(y_pred_prob, axis=1)\n",
        "    y_true = tf.argmax(y_test, axis=1)\n",
        "\n",
        "    acc = tf.reduce_mean(tf.cast(tf.equal(y_pred, y_true), tf.float32))\n",
        "    return acc\n",
        "\n"
      ],
      "metadata": {
        "id": "JmUij5kTYD_o"
      },
      "execution_count": null,
      "outputs": []
    },
    {
      "cell_type": "markdown",
      "source": [
        "Print"
      ],
      "metadata": {
        "id": "F-exAsA5YIaL"
      }
    },
    {
      "cell_type": "code",
      "source": [
        "print(f\"Gradient Tape model accuracy: {evaluate(gradient_tape_model, x_test) * 100:.2f}%\")\n",
        "print(f\"Keras fit model accuracy: {evaluate(keras_fit_model, x_test) * 100:.2f}%\")"
      ],
      "metadata": {
        "colab": {
          "base_uri": "https://localhost:8080/"
        },
        "id": "ou-eGDRbYGNa",
        "outputId": "11cf2981-6a9a-447c-d2b8-f73b8465d956"
      },
      "execution_count": null,
      "outputs": [
        {
          "output_type": "stream",
          "name": "stdout",
          "text": [
            "Gradient Tape model accuracy: 90.13%\n",
            "Keras fit model accuracy: 83.88%\n"
          ]
        }
      ]
    }
  ]
}